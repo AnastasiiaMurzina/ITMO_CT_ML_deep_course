{
 "cells": [
  {
   "cell_type": "code",
   "execution_count": 1,
   "metadata": {},
   "outputs": [],
   "source": [
    "import pgmpy\n",
    "import random\n",
    "def product(*args, **kwds):\n",
    "    pools = [tuple(pool) for pool in args]\n",
    "    result = [[]]\n",
    "    for pool in pools[::-1]:\n",
    "        result = [[y]+x for x in result for y in pool]\n",
    "    for prod in result:\n",
    "        yield tuple(prod)\n",
    "from pgmpy import readwrite\n",
    "from copy import deepcopy"
   ]
  },
  {
   "cell_type": "code",
   "execution_count": 3,
   "metadata": {},
   "outputs": [],
   "source": [
    "net = pgmpy.readwrite.BIF.BIFReader('earthquake.bif')"
   ]
  },
  {
   "cell_type": "code",
   "execution_count": 4,
   "metadata": {},
   "outputs": [
    {
     "data": {
      "text/plain": [
       "{'Burglary': ['True', 'False'],\n",
       " 'Earthquake': ['True', 'False'],\n",
       " 'Alarm': ['True', 'False'],\n",
       " 'JohnCalls': ['True', 'False'],\n",
       " 'MaryCalls': ['True', 'False']}"
      ]
     },
     "execution_count": 4,
     "metadata": {},
     "output_type": "execute_result"
    }
   ],
   "source": [
    "net.variable_states"
   ]
  },
  {
   "cell_type": "code",
   "execution_count": 5,
   "metadata": {
    "scrolled": true
   },
   "outputs": [
    {
     "data": {
      "text/plain": [
       "{'Burglary': ['True', 0],\n",
       " 'Earthquake': ['False', 1],\n",
       " 'Alarm': ['False', 1],\n",
       " 'JohnCalls': ['True', 0],\n",
       " 'MaryCalls': ['False', 1]}"
      ]
     },
     "execution_count": 5,
     "metadata": {},
     "output_type": "execute_result"
    }
   ],
   "source": [
    "choosen_state = {}\n",
    "for k, i in net.variable_states.items():\n",
    "    c = random.choice(i)\n",
    "    choosen_state.update({k: [c, i.index(c)]})\n",
    "choosen_state"
   ]
  },
  {
   "cell_type": "code",
   "execution_count": null,
   "metadata": {},
   "outputs": [],
   "source": []
  },
  {
   "cell_type": "code",
   "execution_count": 6,
   "metadata": {},
   "outputs": [
    {
     "name": "stdout",
     "output_type": "stream",
     "text": [
      "[2.9106e-05]\n"
     ]
    }
   ],
   "source": [
    "def p(var, st, netw=net):\n",
    "    if netw.variable_parents[var] == []:\n",
    "        return netw.get_values()[var][st[1]]\n",
    "    return (netw.get_values()[var][st[1]][list(product(*[netw.get_states()[idx] for idx in netw.get_parents()[var]])).index(tuple(choosen_state[i][0] for i in netw.get_parents()[var]))])\n",
    "\n",
    "\n",
    "ans = 1\n",
    "for i in net.get_states().keys():\n",
    "    ans*=p(i, choosen_state[i])\n",
    "print(ans)\n"
   ]
  },
  {
   "cell_type": "code",
   "execution_count": 11,
   "metadata": {
    "scrolled": true
   },
   "outputs": [],
   "source": [
    "miss_choosen_state = {}\n",
    "for k, i in net.variable_states.items():\n",
    "    if random.random()>0.5:\n",
    "        c = random.choice(i)\n",
    "        miss_choosen_state.update({k: [c, i.index(c)]})\n",
    "    else:\n",
    "        miss_choosen_state.update({k: [None, None]})\n",
    "miss_choosen_state = {'Burglary': [None, None],\n",
    " 'Earthquake': ['True', 0],\n",
    " 'Alarm': [None, None],\n",
    " 'JohnCalls': [None, None],\n",
    " 'MaryCalls': ['True', 0]}"
   ]
  },
  {
   "cell_type": "code",
   "execution_count": 12,
   "metadata": {},
   "outputs": [
    {
     "name": "stdout",
     "output_type": "stream",
     "text": [
      "[0.0002]\n"
     ]
    }
   ],
   "source": [
    "key_to_product = []\n",
    "for k, i in miss_choosen_state.items():\n",
    "    if i[1] is None: key_to_product.append(k)\n",
    "st = deepcopy(miss_choosen_state)\n",
    "probability = 0\n",
    "for state in product(*[net.get_states()[i] for i in key_to_product]):\n",
    "    for j in range(len(key_to_product)):\n",
    "        st[key_to_product[j]] = [state[j], net.get_states()[key_to_product[j]].index(str(state[j]))]\n",
    "    ans = 1\n",
    "    for ix in net.get_states().keys():\n",
    "        ans*=p(ix, st[ix])\n",
    "    probability += ans\n",
    "        \n",
    "print(probability)"
   ]
  },
  {
   "cell_type": "code",
   "execution_count": null,
   "metadata": {},
   "outputs": [],
   "source": []
  },
  {
   "cell_type": "code",
   "execution_count": null,
   "metadata": {},
   "outputs": [],
   "source": []
  }
 ],
 "metadata": {
  "kernelspec": {
   "display_name": "Python 3",
   "language": "python",
   "name": "python3"
  },
  "language_info": {
   "codemirror_mode": {
    "name": "ipython",
    "version": 3
   },
   "file_extension": ".py",
   "mimetype": "text/x-python",
   "name": "python",
   "nbconvert_exporter": "python",
   "pygments_lexer": "ipython3",
   "version": "3.6.5"
  }
 },
 "nbformat": 4,
 "nbformat_minor": 2
}
