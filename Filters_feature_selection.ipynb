{
 "cells": [
  {
   "cell_type": "code",
   "execution_count": 1,
   "metadata": {},
   "outputs": [],
   "source": [
    "import pandas as pd\n",
    "import numpy as np\n",
    "from scipy.stats import pearsonr\n",
    "from sklearn.neighbors import KNeighborsClassifier\n",
    "from sklearn.svm import LinearSVC\n",
    "from sklearn.tree import DecisionTreeClassifier\n",
    "from sklearn.model_selection import cross_val_score\n",
    "from copy import deepcopy\n",
    "import matplotlib.pyplot as plt"
   ]
  },
  {
   "cell_type": "markdown",
   "metadata": {},
   "source": [
    "Select more important feature of dataset to predict labels with applying model and with calculation Pearson's correlation."
   ]
  },
  {
   "cell_type": "code",
   "execution_count": 3,
   "metadata": {},
   "outputs": [],
   "source": [
    "# Prepare data\n",
    "X = np.reshape([list(map(int, i.split())) for i in pd.read_csv(\"arcene_train.data\", header=None)[0][::]], (100, -1))\n",
    "y_train = list(map(int, pd.read_csv(\"arcene_train.labels\", header=None)[0]))\n",
    "X_v = np.reshape([list(map(int, i.split())) for i in pd.read_csv(\"arcene_valid.data\", header=None)[0]], (100, -1))\n",
    "Y_v = [int(i) for i in pd.read_csv(\"arcene_valid.labels\", header=None)[0]]"
   ]
  },
  {
   "cell_type": "code",
   "execution_count": 4,
   "metadata": {},
   "outputs": [],
   "source": [
    "mod = LinearSVC(penalty=\"l1\", dual=False)\n",
    "mod_to_fit = KNeighborsClassifier()"
   ]
  },
  {
   "cell_type": "code",
   "execution_count": 5,
   "metadata": {},
   "outputs": [],
   "source": [
    "poppers_rang = []\n",
    "for i in range(len(X[0])):\n",
    "    poppers_rang.append(np.mean(cross_val_score(mod, np.reshape([row[i] for row in X], (-1, 1)), [j for j in y_train], cv=2)))"
   ]
  },
  {
   "cell_type": "code",
   "execution_count": 6,
   "metadata": {},
   "outputs": [],
   "source": [
    "queue_to_del = list(sorted(enumerate(poppers_rang), key=lambda x: x[1], reverse=True))"
   ]
  },
  {
   "cell_type": "code",
   "execution_count": 7,
   "metadata": {},
   "outputs": [],
   "source": [
    "features = []\n",
    "k = 50\n",
    "for i in queue_to_del[-k::]:\n",
    "    features.append([a[i[0]] for a in X])"
   ]
  },
  {
   "cell_type": "code",
   "execution_count": 8,
   "metadata": {},
   "outputs": [
    {
     "data": {
      "text/plain": [
       "array([0.76470588, 0.67647059, 0.84375   ])"
      ]
     },
     "execution_count": 8,
     "metadata": {},
     "output_type": "execute_result"
    }
   ],
   "source": [
    "mod_to_fit.fit(np.reshape(features, (100, -1)), [j for j in y_train])\n",
    "cross_val_score(mod_to_fit, X, [j for j in y_train])"
   ]
  },
  {
   "cell_type": "code",
   "execution_count": 9,
   "metadata": {},
   "outputs": [],
   "source": [
    "features_v = []\n",
    "for i in queue_to_del[-k::]:\n",
    "    features_v.append([a[i[0]] for a in X_v])\n",
    "Ypr_v = mod_to_fit.predict(np.reshape(features_v, (100, -1)))"
   ]
  },
  {
   "cell_type": "code",
   "execution_count": 10,
   "metadata": {},
   "outputs": [],
   "source": [
    "def score_red(k):\n",
    "    features = [[j[queue_to_del[0][0]]] for j in X]\n",
    "    for i in queue_to_del[1:k]:\n",
    "        [features[ix].append(X[ix][i[0]]) for ix in range(100)]\n",
    "    X_ref = np.reshape(features, (100, -1))\n",
    "    mod_to_fit.fit(X_ref, [j for j in y_train])\n",
    "    preds = [[j[queue_to_del[0][0]]] for j in X_v]\n",
    "    for i in queue_to_del[1:k:]:\n",
    "        [preds[ix].append(X_v[ix][i[0]]) for ix in range(100)]\n",
    "    X_pred = np.reshape(preds, (100, -1))\n",
    "    Ypr_v = mod_to_fit.predict(X_pred)\n",
    "    return sum(Ypr_v==Y_v)/len(Ypr_v)"
   ]
  },
  {
   "cell_type": "code",
   "execution_count": 11,
   "metadata": {},
   "outputs": [],
   "source": [
    "x = list(range(1,100))\n",
    "y = list(map(lambda x: score_red(x), x))"
   ]
  },
  {
   "cell_type": "code",
   "execution_count": 15,
   "metadata": {},
   "outputs": [
    {
     "name": "stdout",
     "output_type": "stream",
     "text": [
      "mean 0.7681818181818183\n",
      "max 0.83 index 65\n"
     ]
    },
    {
     "data": {
      "image/png": "[encoded data removed]",
      "text/plain": [
       "<Figure size 432x288 with 1 Axes>"
      ]
     },
     "metadata": {},
     "output_type": "display_data"
    }
   ],
   "source": [
    "plt.plot(x,y) #100 bests single features\n",
    "print('mean', np.mean(y))\n",
    "print('max', max(y), 'index', np.argmax(y))"
   ]
  },
  {
   "cell_type": "code",
   "execution_count": 20,
   "metadata": {},
   "outputs": [
    {
     "data": {
      "text/plain": [
       "0.83"
      ]
     },
     "execution_count": 20,
     "metadata": {},
     "output_type": "execute_result"
    }
   ],
   "source": [
    "score_red(66) # 66 features from sorted(feature_list) is good: result of KNeighbors"
   ]
  },
  {
   "cell_type": "code",
   "execution_count": 22,
   "metadata": {},
   "outputs": [],
   "source": [
    "n_fs = len(y_train)\n",
    "queue_pears = [min(list(map(abs, pearsonr([a[i] for a in X], [j for j in y_train])))) for i in range(n_fs)]"
   ]
  },
  {
   "cell_type": "code",
   "execution_count": 23,
   "metadata": {},
   "outputs": [],
   "source": [
    "pqueue = sorted(list(enumerate(queue_pears)), key=lambda x: x[1], reverse=True)\n"
   ]
  },
  {
   "cell_type": "code",
   "execution_count": 24,
   "metadata": {},
   "outputs": [],
   "source": [
    "def score_p(k):\n",
    "    pq = [[j[pqueue[0][0]]] for j in X]\n",
    "    for i in pqueue[1:k]:\n",
    "        [pq[ix].append(X[ix][i[0]]) for ix in range(100)]\n",
    "    X_ref = np.reshape(pq, (100, -1))\n",
    "    mod_to_fit.fit(X_ref, [j for j in y_train])\n",
    "    preds = [[j[pqueue[0][0]]] for j in X_v]\n",
    "    for i in pqueue[1:k]:\n",
    "        [preds[ix].append(X_v[ix][i[0]]) for ix in range(100)]\n",
    "    X_pred = np.reshape(preds, (100, -1))\n",
    "    Ypr_v = mod_to_fit.predict(X_pred)\n",
    "    return sum(Ypr_v==Y_v)/len(Ypr_v)"
   ]
  },
  {
   "cell_type": "code",
   "execution_count": 25,
   "metadata": {},
   "outputs": [],
   "source": [
    "x1 = list(range(1,100))\n",
    "y1 = list(map(lambda x: score_p(x), x))"
   ]
  },
  {
   "cell_type": "code",
   "execution_count": 30,
   "metadata": {},
   "outputs": [
    {
     "name": "stdout",
     "output_type": "stream",
     "text": [
      "mean 0.7096969696969699\n",
      "total max 0.79\n",
      "first max 0.78  index  34\n"
     ]
    },
    {
     "data": {
      "image/png": "[encoded data removed]",
      "text/plain": [
       "<Figure size 432x288 with 1 Axes>"
      ]
     },
     "metadata": {},
     "output_type": "display_data"
    }
   ],
   "source": [
    "plt.plot(x1,y1) #100 best with pearson corellation\n",
    "print('mean', np.mean(y1))\n",
    "print('total max', max(y1))\n",
    "print('first max', max(y1[:50:]), ' index ', np.argmax(y1[:50:]))"
   ]
  },
  {
   "cell_type": "code",
   "execution_count": 32,
   "metadata": {},
   "outputs": [
    {
     "data": {
      "text/plain": [
       "0.78"
      ]
     },
     "execution_count": 32,
     "metadata": {},
     "output_type": "execute_result"
    }
   ],
   "source": [
    "score_p(35) # 35 features: result by correlation calculation"
   ]
  },
  {
   "cell_type": "code",
   "execution_count": 33,
   "metadata": {},
   "outputs": [],
   "source": [
    "def best_w(k_w):\n",
    "    features = [[] for _ in range(100)]\n",
    "    prev_score = 0\n",
    "    selected = []\n",
    "    for i in queue_to_del[::-1]:\n",
    "        checker = deepcopy(features)\n",
    "        if checker == []: [checker.append(j[i[0]]) for j in X]\n",
    "        else:\n",
    "            for ix in range(100):\n",
    "                checker[ix].append(X[ix][i[0]])\n",
    "        cur_score = np.mean(cross_val_score(mod, np.reshape(checker, (100, -1)), [j for j in y_train], cv=5))\n",
    "        if  cur_score > prev_score:\n",
    "            selected.append(i[0])\n",
    "            prev_score = cur_score\n",
    "            features = deepcopy(checker)\n",
    "    return selected"
   ]
  },
  {
   "cell_type": "code",
   "execution_count": 34,
   "metadata": {},
   "outputs": [],
   "source": [
    "get_selected = best_w(0)"
   ]
  },
  {
   "cell_type": "code",
   "execution_count": 35,
   "metadata": {},
   "outputs": [],
   "source": [
    "def score_w(k):\n",
    "    num = get_selected[:k:]\n",
    "    pq = [[j[num[0]]] for j in X] \n",
    "    for i in num[1::]:\n",
    "        [pq[ix].append(X[ix][i]) for ix in range(100)]\n",
    "    X_ref = np.reshape(pq, (100, -1))\n",
    "    mod_to_fit.fit(X_ref, [j for j in y_train])\n",
    "    preds = [[j[num[0]]] for j in X_v]\n",
    "    for i in num[1::]:\n",
    "        [preds[ix].append(X_v[ix][i]) for ix in range(100)]\n",
    "    X_pred = np.reshape(preds, (100, -1))\n",
    "    Ypr_v = mod_to_fit.predict(X_pred)\n",
    "    return sum(Ypr_v==Y_v)/len(Ypr_v)"
   ]
  },
  {
   "cell_type": "code",
   "execution_count": 36,
   "metadata": {},
   "outputs": [],
   "source": [
    "xw = list(range(1,len(get_selected)))\n",
    "yw = list(map(lambda x: score_w(k=x), xw))\n"
   ]
  },
  {
   "cell_type": "code",
   "execution_count": 37,
   "metadata": {},
   "outputs": [
    {
     "name": "stdout",
     "output_type": "stream",
     "text": [
      "mean 0.6153846153846153\n",
      "max 0.77\n"
     ]
    },
    {
     "data": {
      "image/png": "[encoded data removed]",
      "text/plain": [
       "<Figure size 432x288 with 1 Axes>"
      ]
     },
     "metadata": {},
     "output_type": "display_data"
    }
   ],
   "source": [
    "plt.plot(xw, yw)\n",
    "print('mean', np.mean(yw))\n",
    "print('max', max(yw))"
   ]
  },
  {
   "cell_type": "code",
   "execution_count": 623,
   "metadata": {},
   "outputs": [
    {
     "name": "stdout",
     "output_type": "stream",
     "text": [
      "0.8\n"
     ]
    }
   ],
   "source": [
    "print(score_w(8)) #8 best features"
   ]
  },
  {
   "cell_type": "code",
   "execution_count": null,
   "metadata": {},
   "outputs": [],
   "source": []
  }
 ],
 "metadata": {
  "kernelspec": {
   "display_name": "Python 3",
   "language": "python",
   "name": "python3"
  },
  "language_info": {
   "codemirror_mode": {
    "name": "ipython",
    "version": 3
   },
   "file_extension": ".py",
   "mimetype": "text/x-python",
   "name": "python",
   "nbconvert_exporter": "python",
   "pygments_lexer": "ipython3",
   "version": "3.6.5"
  }
 },
 "nbformat": 4,
 "nbformat_minor": 2
}
